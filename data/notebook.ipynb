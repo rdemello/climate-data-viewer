{
 "cells": [
  {
   "cell_type": "code",
   "execution_count": 1,
   "id": "eb15c828",
   "metadata": {},
   "outputs": [],
   "source": [
    "import xarray as xr\n",
    "import os\n",
    "import glob"
   ]
  },
  {
   "cell_type": "code",
   "execution_count": 5,
   "id": "2ae90a5e",
   "metadata": {},
   "outputs": [],
   "source": [
    "input_folder = \"./raw/pr\"\n",
    "output_folder = \"./processed/pr\"\n",
    "os.makedirs(input_folder, exist_ok=True)\n",
    "os.makedirs(output_folder, exist_ok=True)\n",
    "    \n",
    "nc_file_list = glob.glob(os.path.join(input_folder, \"*.nc\"))\n",
    "\n",
    "if nc_file_list:\n",
    "    # Open all files as a single dataset along the time dimension\n",
    "    combined_ds = xr.open_mfdataset(nc_file_list, combine='by_coords')\n",
    "    # Group by year (using the 'year' coordinate) and process each year once\n",
    "    for year, yearly_ds in combined_ds.groupby('time.year'):\n",
    "        \n",
    "        augmented_yearly_data = yearly_ds.max(dim='time', keep_attrs=True)\n",
    "        \n",
    "        heavy_rainfall = (yearly_ds['pr'] > 20).sum(dim='time', keep_attrs=True)\n",
    "        \n",
    "        # Calculate wet_days and align coordinates to match other variables\n",
    "        wet_days = (yearly_ds['pr'] > 5).sum(dim='time', keep_attrs=True)\n",
    "        \n",
    "        yearly_sum = yearly_ds['pr'].sum(dim='time', keep_attrs=True)\n",
    "        \n",
    "        \n",
    "        rolling_5day_sum = yearly_ds['pr'].rolling(time=5, min_periods=5).sum()\n",
    "        max_5day_sum = rolling_5day_sum.max(dim='time', keep_attrs=True)\n",
    "        \n",
    "        rolling_3day_sum = yearly_ds['pr'].rolling(time=3, min_periods=3).sum()\n",
    "        max_3day_sum = rolling_3day_sum.max(dim='time', keep_attrs=True)\n",
    "\n",
    "        augmented_yearly_data['max_5day_sum'] = max_5day_sum\n",
    "        augmented_yearly_data['max_3day_sum'] = max_3day_sum\n",
    "        augmented_yearly_data['sum'] = yearly_sum\n",
    "        augmented_yearly_data['over_20'] = heavy_rainfall\n",
    "        augmented_yearly_data['wet_days'] = wet_days\n",
    "        \n",
    "        out_path = os.path.join(\n",
    "            output_folder,\n",
    "            f\"pr_year_{year}.nc\"\n",
    "        )\n",
    "        augmented_yearly_data.to_netcdf(out_path)\n",
    "    combined_ds.close()\n",
    "\n"
   ]
  },
  {
   "cell_type": "code",
   "execution_count": 6,
   "id": "dfe7b1c3",
   "metadata": {},
   "outputs": [],
   "source": [
    "# Find all NetCDF files in the output_folder\n",
    "nc_files = glob.glob(os.path.join(output_folder, \"*.nc\"))\n",
    "\n",
    "# Open and merge all datasets along the 'time' dimension\n",
    "merged_ds = xr.open_mfdataset(nc_files, combine='nested', concat_dim='year')\n",
    "\n",
    "# Optionally, save the merged dataset to a new file\n",
    "merged_ds.to_netcdf(os.path.join(output_folder, \"merged.nc\"))"
   ]
  },
  {
   "cell_type": "code",
   "execution_count": 7,
   "id": "e4ed3cd9",
   "metadata": {},
   "outputs": [],
   "source": [
    "merged_pr = xr.open_dataset(os.path.join(output_folder, \"merged.nc\"))\n",
    "\n",
    "rolling_pr_sum = merged_pr['sum'].rolling(year=5, center=True, min_periods=1).mean()\n",
    "rolling_over_20 = merged_pr['over_20'].rolling(year=5, center=True, min_periods=1).mean()\n",
    "rolling_max_3day_sum = merged_pr['max_3day_sum'].rolling(year=5, center=True, min_periods=1).mean()\n",
    "rolling_max_5day_sum = merged_pr['max_5day_sum'].rolling(year=5, center=True, min_periods=1).mean()\n",
    "rolling_pr = merged_pr['pr'].rolling(year=5, center=True, min_periods=1).mean()\n",
    "rolling_wet_days = merged_pr['wet_days'].rolling(year=5, center=True, min_periods=1).mean()\n",
    "rolling_values = xr.Dataset({\n",
    "    'sum_rolling': rolling_pr_sum,\n",
    "    'over_20_rolling': rolling_over_20,\n",
    "    'max_3day_sum_rolling': rolling_max_3day_sum,\n",
    "    'max_5day_sum_rolling': rolling_max_5day_sum,\n",
    "    'pr_rolling': rolling_pr,\n",
    "    'wet_days_rolling': rolling_wet_days\n",
    "    })\n",
    "\n",
    "out_rolling_path = os.path.join(output_folder, \"rolling_values.nc\")\n",
    "rolling_values.to_netcdf(out_rolling_path)"
   ]
  }
 ],
 "metadata": {
  "kernelspec": {
   "display_name": ".venv",
   "language": "python",
   "name": "python3"
  },
  "language_info": {
   "codemirror_mode": {
    "name": "ipython",
    "version": 3
   },
   "file_extension": ".py",
   "mimetype": "text/x-python",
   "name": "python",
   "nbconvert_exporter": "python",
   "pygments_lexer": "ipython3",
   "version": "3.11.9"
  }
 },
 "nbformat": 4,
 "nbformat_minor": 5
}
